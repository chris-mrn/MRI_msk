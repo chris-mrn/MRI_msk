{
 "cells": [
  {
   "cell_type": "code",
   "execution_count": 1,
   "metadata": {},
   "outputs": [],
   "source": [
    "import matplotlib.pyplot as plt\n",
    "import numpy as np\n",
    "from mrinufft import display_2D_trajectory\n",
    "\n",
    "plt.rcParams[\"image.cmap\"] = \"gray\""
   ]
  },
  {
   "cell_type": "code",
   "execution_count": 2,
   "metadata": {},
   "outputs": [
    {
     "name": "stderr",
     "output_type": "stream",
     "text": [
      "/Users/christophermarouani/opt/anaconda3/envs/msk_v/lib/python3.12/site-packages/tqdm/auto.py:21: TqdmWarning: IProgress not found. Please update jupyter and ipywidgets. See https://ipywidgets.readthedocs.io/en/stable/user_install.html\n",
      "  from .autonotebook import tqdm as notebook_tqdm\n",
      "\n",
      "\u001b[A\n",
      "\u001b[A"
     ]
    },
    {
     "ename": "ValueError",
     "evalue": "Mismatch between data size and shape 0 != (181, 217, 181)",
     "output_type": "error",
     "traceback": [
      "\u001b[0;31m---------------------------------------------------------------------------\u001b[0m",
      "\u001b[0;31mValueError\u001b[0m                                Traceback (most recent call last)",
      "Cell \u001b[0;32mIn[2], line 3\u001b[0m\n\u001b[1;32m      1\u001b[0m \u001b[38;5;28;01mfrom\u001b[39;00m \u001b[38;5;21;01mbrainweb_dl\u001b[39;00m \u001b[38;5;28;01mimport\u001b[39;00m get_mri\n\u001b[0;32m----> 3\u001b[0m mri_data \u001b[38;5;241m=\u001b[39m \u001b[43mget_mri\u001b[49m\u001b[43m(\u001b[49m\u001b[38;5;241;43m0\u001b[39;49m\u001b[43m,\u001b[49m\u001b[43m \u001b[49m\u001b[38;5;124;43m\"\u001b[39;49m\u001b[38;5;124;43mT1\u001b[39;49m\u001b[38;5;124;43m\"\u001b[39;49m\u001b[43m)\u001b[49m\n\u001b[1;32m      4\u001b[0m mri_data \u001b[38;5;241m=\u001b[39m mri_data[::\u001b[38;5;241m-\u001b[39m\u001b[38;5;241m1\u001b[39m, \u001b[38;5;241m.\u001b[39m\u001b[38;5;241m.\u001b[39m\u001b[38;5;241m.\u001b[39m]\n\u001b[1;32m      5\u001b[0m fig, ax \u001b[38;5;241m=\u001b[39m plt\u001b[38;5;241m.\u001b[39msubplots(\u001b[38;5;241m1\u001b[39m, \u001b[38;5;241m3\u001b[39m)\n",
      "File \u001b[0;32m~/opt/anaconda3/envs/msk_v/lib/python3.12/site-packages/brainweb_dl/mri.py:162\u001b[0m, in \u001b[0;36mget_mri\u001b[0;34m(sub_id, contrast, bbox, shape, brainweb_dir, output_res, download_res, noise, field_value, force, extension, tissue_map, rng)\u001b[0m\n\u001b[1;32m    160\u001b[0m logger\u001b[38;5;241m.\u001b[39mdebug(\u001b[38;5;124mf\u001b[39m\u001b[38;5;124m\"\u001b[39m\u001b[38;5;124mGet MRI data for subject \u001b[39m\u001b[38;5;132;01m{\u001b[39;00msub_id\u001b[38;5;132;01m}\u001b[39;00m\u001b[38;5;124m and contrast \u001b[39m\u001b[38;5;132;01m{\u001b[39;00mcontrast\u001b[38;5;132;01m}\u001b[39;00m\u001b[38;5;124m\"\u001b[39m)\n\u001b[1;32m    161\u001b[0m \u001b[38;5;28;01mif\u001b[39;00m sub_id \u001b[38;5;241m==\u001b[39m \u001b[38;5;241m0\u001b[39m:\n\u001b[0;32m--> 162\u001b[0m     data \u001b[38;5;241m=\u001b[39m \u001b[43m_get_mri_sub0\u001b[49m\u001b[43m(\u001b[49m\n\u001b[1;32m    163\u001b[0m \u001b[43m        \u001b[49m\u001b[43mcontrast\u001b[49m\u001b[43m,\u001b[49m\n\u001b[1;32m    164\u001b[0m \u001b[43m        \u001b[49m\u001b[43mbrainweb_dir\u001b[49m\u001b[38;5;241;43m=\u001b[39;49m\u001b[43mbrainweb_dir\u001b[49m\u001b[43m,\u001b[49m\n\u001b[1;32m    165\u001b[0m \u001b[43m        \u001b[49m\u001b[43mres\u001b[49m\u001b[38;5;241;43m=\u001b[39;49m\u001b[43mdownload_res\u001b[49m\u001b[43m,\u001b[49m\n\u001b[1;32m    166\u001b[0m \u001b[43m        \u001b[49m\u001b[43mnoise\u001b[49m\u001b[38;5;241;43m=\u001b[39;49m\u001b[43mnoise\u001b[49m\u001b[43m,\u001b[49m\n\u001b[1;32m    167\u001b[0m \u001b[43m        \u001b[49m\u001b[43mfield_value\u001b[49m\u001b[38;5;241;43m=\u001b[39;49m\u001b[43mfield_value\u001b[49m\u001b[43m,\u001b[49m\n\u001b[1;32m    168\u001b[0m \u001b[43m        \u001b[49m\u001b[43mforce\u001b[49m\u001b[38;5;241;43m=\u001b[39;49m\u001b[43mforce\u001b[49m\u001b[43m,\u001b[49m\n\u001b[1;32m    169\u001b[0m \u001b[43m        \u001b[49m\u001b[43mtissue_map\u001b[49m\u001b[38;5;241;43m=\u001b[39;49m\u001b[43mtissue_map\u001b[49m\u001b[43m \u001b[49m\u001b[38;5;129;43;01mor\u001b[39;49;00m\u001b[43m \u001b[49m\u001b[43mBrainWebTissueMap\u001b[49m\u001b[38;5;241;43m.\u001b[39;49m\u001b[43mv1\u001b[49m\u001b[43m,\u001b[49m\n\u001b[1;32m    170\u001b[0m \u001b[43m        \u001b[49m\u001b[43mrng\u001b[49m\u001b[38;5;241;43m=\u001b[39;49m\u001b[43mrng\u001b[49m\u001b[43m,\u001b[49m\n\u001b[1;32m    171\u001b[0m \u001b[43m    \u001b[49m\u001b[43m)\u001b[49m\n\u001b[1;32m    172\u001b[0m \u001b[38;5;28;01melse\u001b[39;00m:\n\u001b[1;32m    173\u001b[0m     data \u001b[38;5;241m=\u001b[39m _get_mri_sub20(\n\u001b[1;32m    174\u001b[0m         contrast,\n\u001b[1;32m    175\u001b[0m         sub_id,\n\u001b[0;32m   (...)\u001b[0m\n\u001b[1;32m    178\u001b[0m         tissue_map\u001b[38;5;241m=\u001b[39mtissue_map \u001b[38;5;129;01mor\u001b[39;00m BrainWebTissueMap\u001b[38;5;241m.\u001b[39mv2,\n\u001b[1;32m    179\u001b[0m     )\n",
      "File \u001b[0;32m~/opt/anaconda3/envs/msk_v/lib/python3.12/site-packages/brainweb_dl/mri.py:46\u001b[0m, in \u001b[0;36m_get_mri_sub0\u001b[0;34m(contrast, brainweb_dir, res, noise, field_value, force, tissue_map, rng)\u001b[0m\n\u001b[1;32m     35\u001b[0m \u001b[38;5;28;01mdef\u001b[39;00m \u001b[38;5;21m_get_mri_sub0\u001b[39m(\n\u001b[1;32m     36\u001b[0m     contrast: Contrast \u001b[38;5;241m|\u001b[39m Segmentation,\n\u001b[1;32m     37\u001b[0m     brainweb_dir: BrainWebDirType \u001b[38;5;241m=\u001b[39m \u001b[38;5;28;01mNone\u001b[39;00m,\n\u001b[0;32m   (...)\u001b[0m\n\u001b[1;32m     43\u001b[0m     rng: \u001b[38;5;28mint\u001b[39m \u001b[38;5;241m|\u001b[39m np\u001b[38;5;241m.\u001b[39mrandom\u001b[38;5;241m.\u001b[39mGenerator \u001b[38;5;241m|\u001b[39m \u001b[38;5;28;01mNone\u001b[39;00m \u001b[38;5;241m=\u001b[39m \u001b[38;5;28;01mNone\u001b[39;00m,\n\u001b[1;32m     44\u001b[0m ) \u001b[38;5;241m-\u001b[39m\u001b[38;5;241m>\u001b[39m np\u001b[38;5;241m.\u001b[39mndarray:\n\u001b[1;32m     45\u001b[0m     \u001b[38;5;28;01mif\u001b[39;00m contrast \u001b[38;5;129;01min\u001b[39;00m [Contrast\u001b[38;5;241m.\u001b[39mT1, Contrast\u001b[38;5;241m.\u001b[39mT2, Contrast\u001b[38;5;241m.\u001b[39mPD]:\n\u001b[0;32m---> 46\u001b[0m         filename \u001b[38;5;241m=\u001b[39m \u001b[43mget_brainweb1\u001b[49m\u001b[43m(\u001b[49m\n\u001b[1;32m     47\u001b[0m \u001b[43m            \u001b[49m\u001b[43mContrast\u001b[49m\u001b[43m(\u001b[49m\u001b[43mcontrast\u001b[49m\u001b[43m)\u001b[49m\u001b[43m,\u001b[49m\n\u001b[1;32m     48\u001b[0m \u001b[43m            \u001b[49m\u001b[43mres\u001b[49m\u001b[38;5;241;43m=\u001b[39;49m\u001b[43mres\u001b[49m\u001b[43m,\u001b[49m\n\u001b[1;32m     49\u001b[0m \u001b[43m            \u001b[49m\u001b[43mnoise\u001b[49m\u001b[38;5;241;43m=\u001b[39;49m\u001b[43mnoise\u001b[49m\u001b[43m,\u001b[49m\n\u001b[1;32m     50\u001b[0m \u001b[43m            \u001b[49m\u001b[43mfield_value\u001b[49m\u001b[38;5;241;43m=\u001b[39;49m\u001b[43mfield_value\u001b[49m\u001b[43m,\u001b[49m\n\u001b[1;32m     51\u001b[0m \u001b[43m            \u001b[49m\u001b[43mbrainweb_dir\u001b[49m\u001b[38;5;241;43m=\u001b[39;49m\u001b[43mbrainweb_dir\u001b[49m\u001b[43m,\u001b[49m\n\u001b[1;32m     52\u001b[0m \u001b[43m            \u001b[49m\u001b[43mforce\u001b[49m\u001b[38;5;241;43m=\u001b[39;49m\u001b[43mforce\u001b[49m\u001b[43m,\u001b[49m\n\u001b[1;32m     53\u001b[0m \u001b[43m        \u001b[49m\u001b[43m)\u001b[49m\n\u001b[1;32m     55\u001b[0m         \u001b[38;5;28;01mreturn\u001b[39;00m nib\u001b[38;5;241m.\u001b[39mNifti1Image\u001b[38;5;241m.\u001b[39mfrom_filename(filename)\u001b[38;5;241m.\u001b[39mget_fdata()\n\u001b[1;32m     57\u001b[0m     \u001b[38;5;28;01mif\u001b[39;00m contrast \u001b[38;5;129;01mis\u001b[39;00m Contrast\u001b[38;5;241m.\u001b[39mT2S:\n",
      "File \u001b[0;32m~/opt/anaconda3/envs/msk_v/lib/python3.12/site-packages/brainweb_dl/_brainweb.py:384\u001b[0m, in \u001b[0;36mget_brainweb1\u001b[0;34m(contrast, res, noise, field_value, brainweb_dir, force, extension)\u001b[0m\n\u001b[1;32m    382\u001b[0m     logger\u001b[38;5;241m.\u001b[39mdebug(\u001b[38;5;124m\"\u001b[39m\u001b[38;5;124mFound existing path for raw_data (brainweb 20 T1)\u001b[39m\u001b[38;5;132;01m{path}\u001b[39;00m\u001b[38;5;124m\"\u001b[39m)\n\u001b[1;32m    383\u001b[0m     \u001b[38;5;28;01mreturn\u001b[39;00m path\n\u001b[0;32m--> 384\u001b[0m data \u001b[38;5;241m=\u001b[39m \u001b[43m_request_get_brainweb\u001b[49m\u001b[43m(\u001b[49m\n\u001b[1;32m    385\u001b[0m \u001b[43m    \u001b[49m\u001b[43mdownload_command\u001b[49m\u001b[43m,\u001b[49m\u001b[43m \u001b[49m\u001b[43mbrainweb_dir\u001b[49m\u001b[43m \u001b[49m\u001b[38;5;241;43m/\u001b[39;49m\u001b[43m \u001b[49m\u001b[43mfname\u001b[49m\u001b[43m,\u001b[49m\u001b[43m \u001b[49m\u001b[43mforce\u001b[49m\u001b[43m,\u001b[49m\u001b[43m \u001b[49m\u001b[43mshape\u001b[49m\u001b[38;5;241;43m=\u001b[39;49m\u001b[43mshape\u001b[49m\u001b[43m,\u001b[49m\u001b[43m \u001b[49m\u001b[43mdtype\u001b[49m\u001b[38;5;241;43m=\u001b[39;49m\u001b[43mnp\u001b[49m\u001b[38;5;241;43m.\u001b[39;49m\u001b[43muint16\u001b[49m\n\u001b[1;32m    386\u001b[0m \u001b[43m\u001b[49m\u001b[43m)\u001b[49m\n\u001b[1;32m    387\u001b[0m \u001b[38;5;28;01mreturn\u001b[39;00m save_array(data, path)\n",
      "File \u001b[0;32m~/opt/anaconda3/envs/msk_v/lib/python3.12/site-packages/brainweb_dl/_brainweb.py:519\u001b[0m, in \u001b[0;36m_request_get_brainweb\u001b[0;34m(download_command, path, force, dtype, shape)\u001b[0m\n\u001b[1;32m    517\u001b[0m     data \u001b[38;5;241m=\u001b[39m np\u001b[38;5;241m.\u001b[39mfrombuffer(gzip\u001b[38;5;241m.\u001b[39mdecompress(buffer\u001b[38;5;241m.\u001b[39mgetvalue()), dtype\u001b[38;5;241m=\u001b[39mdtype)\n\u001b[1;32m    518\u001b[0m \u001b[38;5;28;01mif\u001b[39;00m data\u001b[38;5;241m.\u001b[39msize \u001b[38;5;241m!=\u001b[39m np\u001b[38;5;241m.\u001b[39mprod(shape):\n\u001b[0;32m--> 519\u001b[0m     \u001b[38;5;28;01mraise\u001b[39;00m \u001b[38;5;167;01mValueError\u001b[39;00m(\u001b[38;5;124mf\u001b[39m\u001b[38;5;124m\"\u001b[39m\u001b[38;5;124mMismatch between data size and shape \u001b[39m\u001b[38;5;132;01m{\u001b[39;00mdata\u001b[38;5;241m.\u001b[39msize\u001b[38;5;132;01m}\u001b[39;00m\u001b[38;5;124m != \u001b[39m\u001b[38;5;132;01m{\u001b[39;00mshape\u001b[38;5;132;01m}\u001b[39;00m\u001b[38;5;124m\"\u001b[39m)\n\u001b[1;32m    520\u001b[0m data \u001b[38;5;241m=\u001b[39m \u001b[38;5;28mabs\u001b[39m(data)\u001b[38;5;241m.\u001b[39mreshape(shape)\n\u001b[1;32m    521\u001b[0m \u001b[38;5;28;01mreturn\u001b[39;00m data\n",
      "\u001b[0;31mValueError\u001b[0m: Mismatch between data size and shape 0 != (181, 217, 181)"
     ]
    }
   ],
   "source": [
    "from brainweb_dl import get_mri\n",
    "\n",
    "mri_data = get_mri(0, \"T1\")\n",
    "mri_data = mri_data[::-1, ...]\n",
    "fig, ax = plt.subplots(1, 3)\n",
    "ax[0].imshow(mri_data[90, :, :])\n",
    "ax[1].imshow(mri_data[:, 108, :])\n",
    "ax[2].imshow(mri_data[:, :, 90])"
   ]
  }
 ],
 "metadata": {
  "kernelspec": {
   "display_name": "pysap-mri",
   "language": "python",
   "name": "python3"
  },
  "language_info": {
   "codemirror_mode": {
    "name": "ipython",
    "version": 3
   },
   "file_extension": ".py",
   "mimetype": "text/x-python",
   "name": "python",
   "nbconvert_exporter": "python",
   "pygments_lexer": "ipython3",
   "version": "3.12.3"
  }
 },
 "nbformat": 4,
 "nbformat_minor": 2
}
